{
 "cells": [
  {
   "cell_type": "code",
   "execution_count": 9,
   "metadata": {},
   "outputs": [
    {
     "name": "stdout",
     "output_type": "stream",
     "text": [
      "Vector Addition =  [2, 1]\n",
      "Vector Addition =  [2, 6]\n",
      "Vector Addition =  [2, 6, 4]\n",
      "Vector Addition =  [13, -4, 13, 5]\n"
     ]
    }
   ],
   "source": [
    "#Vector Addition\n",
    "def add_vectors(u, v):\n",
    "        # adding vectors\n",
    "        sum = []\n",
    "        for i in range(len(u)):\n",
    "            sum.append(u[i] + v[i])\n",
    "\n",
    "        print(\"Vector Addition = \", sum)\n",
    "     \n",
    "    \n",
    "add_vectors([1, 0], [1, 1])\n",
    "add_vectors([1, 2], [1, 4])\n",
    "add_vectors([1, 2, 1], [1, 4, 3])\n",
    "add_vectors([11, 0, -4, 5], [2, -4, 17, 0])\n"
   ]
  },
  {
   "cell_type": "code",
   "execution_count": 12,
   "metadata": {},
   "outputs": [
    {
     "name": "stdout",
     "output_type": "stream",
     "text": [
      "Vector Addition =  [2, 3, 4]\n",
      "[1, 2, 3]\n",
      "[1, 1, 1]\n"
     ]
    }
   ],
   "source": [
    "#vector Addition\n",
    "a = [1, 2, 3]\n",
    "b = [1, 1, 1]\n",
    "add_vectors(a, b)\n",
    "print(a)\n",
    "print(b)\n"
   ]
  },
  {
   "cell_type": "code",
   "execution_count": 19,
   "metadata": {},
   "outputs": [
    {
     "name": "stdout",
     "output_type": "stream",
     "text": [
      "[5, 10]\n",
      "[3, 0, -3]\n",
      "[21, 0, 35, 77, 14]\n",
      "[4, 8, 12]\n"
     ]
    }
   ],
   "source": [
    "#Scalar Multipilication\n",
    "def scalar_mult(s, v):\n",
    "    #Multipling the two vectors\n",
    "    return [s*x for x in v]\n",
    "\n",
    "print(scalar_mult(5, [1, 2]))\n",
    "print(scalar_mult(3, [1, 0, -1]))\n",
    "print(scalar_mult(7, [3, 0, 5, 11, 2]))\n",
    "\n",
    "    "
   ]
  },
  {
   "cell_type": "code",
   "execution_count": 20,
   "metadata": {},
   "outputs": [
    {
     "name": "stdout",
     "output_type": "stream",
     "text": [
      "[4, 8, 12]\n",
      "[1, 2, 3]\n"
     ]
    }
   ],
   "source": [
    "#scalar Multipilication\n",
    "a = [1, 2, 3]\n",
    "print(scalar_mult(4, a))\n",
    "print(a)"
   ]
  },
  {
   "cell_type": "code",
   "execution_count": 21,
   "metadata": {},
   "outputs": [],
   "source": [
    "#dot product of two vectors\n",
    "def dot_product(u, v):\n",
    "   if len(u) != len(v):\n",
    "      return 0\n",
    "\n",
    "   return sum(i[0] * i[1] for i in zip(u, v))"
   ]
  },
  {
   "cell_type": "code",
   "execution_count": 29,
   "metadata": {},
   "outputs": [
    {
     "name": "stdout",
     "output_type": "stream",
     "text": [
      "2\n",
      "9\n",
      "12\n",
      "0\n"
     ]
    }
   ],
   "source": [
    "#dot product of two vectors\n",
    "print(dot_product([1, 1], [1, 1]))\n",
    "print(dot_product([1, 2], [1, 4]))\n",
    "print(dot_product([1, 2, 1], [1, 4, 3]))\n",
    "print(dot_product([2, 0, -1, 1], [1, 5, 2, 0]))"
   ]
  },
  {
   "cell_type": "code",
   "execution_count": 30,
   "metadata": {},
   "outputs": [],
   "source": [
    "import copy\n",
    "def copy_matrix(matrix):\n",
    "    b = copy.deepcopy(matrix)\n",
    "    return(b)\n",
    "    "
   ]
  },
  {
   "cell_type": "code",
   "execution_count": 34,
   "metadata": {},
   "outputs": [
    {
     "name": "stdout",
     "output_type": "stream",
     "text": [
      "[[1, 2], [3, 4]]\n",
      "[[1, 2, 3], [4, 5, 6]]\n",
      "[[1, 2], [3, 4], [5, 6], [7, 8]]\n"
     ]
    }
   ],
   "source": [
    "print(copy_matrix([[1, 2], [3, 4]]))\n",
    "print(copy_matrix([[1, 2, 3], [4, 5, 6]]))\n",
    "print(copy_matrix([[1, 2], [3, 4], [5, 6], [7, 8]]))"
   ]
  },
  {
   "cell_type": "code",
   "execution_count": 38,
   "metadata": {},
   "outputs": [
    {
     "name": "stdout",
     "output_type": "stream",
     "text": [
      "[[42, 0, 0], [0, 2, 0], [0, 0, 3]]\n",
      "[[1, 0, 0], [0, 2, 0], [0, 0, 3]]\n",
      "[[42, 42, 0], [0, 2, 0], [0, 0, 3]]\n",
      "[[1, 0, 0], [0, 2, 0], [0, 0, 3]]\n",
      "[[42, 42, 42], [0, 2, 0], [0, 0, 3]]\n",
      "[[1, 0, 0], [0, 2, 0], [0, 0, 3]]\n",
      "[[42, 42, 42], [42, 2, 0], [0, 0, 3]]\n",
      "[[1, 0, 0], [0, 2, 0], [0, 0, 3]]\n",
      "[[42, 42, 42], [42, 42, 0], [0, 0, 3]]\n",
      "[[1, 0, 0], [0, 2, 0], [0, 0, 3]]\n",
      "[[42, 42, 42], [42, 42, 42], [0, 0, 3]]\n",
      "[[1, 0, 0], [0, 2, 0], [0, 0, 3]]\n",
      "[[42, 42, 42], [42, 42, 42], [42, 0, 3]]\n",
      "[[1, 0, 0], [0, 2, 0], [0, 0, 3]]\n",
      "[[42, 42, 42], [42, 42, 42], [42, 42, 3]]\n",
      "[[1, 0, 0], [0, 2, 0], [0, 0, 3]]\n",
      "[[42, 42, 42], [42, 42, 42], [42, 42, 42]]\n",
      "[[1, 0, 0], [0, 2, 0], [0, 0, 3]]\n"
     ]
    }
   ],
   "source": [
    "m = [[1, 0, 0], [0, 2, 0], [0, 0, 3]]\n",
    "copyofm = copy_matrix(m)\n",
    "copyofm\n",
    "for row_num, row in enumerate(copyofm):\n",
    "    for col_num, col_val in enumerate(row):\n",
    "      copyofm[row_num][col_num] = 42\n",
    "\n",
    "      print(copyofm)\n",
    "      print(m)"
   ]
  },
  {
   "cell_type": "code",
   "execution_count": null,
   "metadata": {},
   "outputs": [],
   "source": []
  }
 ],
 "metadata": {
  "interpreter": {
   "hash": "9134d842bdcd315c0236068128f9507982a421bdbb3f601d119036447ad6d994"
  },
  "kernelspec": {
   "display_name": "Python 3.8.12 64-bit ('strive': conda)",
   "language": "python",
   "name": "python3"
  },
  "language_info": {
   "codemirror_mode": {
    "name": "ipython",
    "version": 3
   },
   "file_extension": ".py",
   "mimetype": "text/x-python",
   "name": "python",
   "nbconvert_exporter": "python",
   "pygments_lexer": "ipython3",
   "version": "3.8.12"
  },
  "orig_nbformat": 4
 },
 "nbformat": 4,
 "nbformat_minor": 2
}
